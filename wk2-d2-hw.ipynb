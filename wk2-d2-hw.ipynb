{
 "metadata": {
  "language_info": {
   "codemirror_mode": {
    "name": "ipython",
    "version": 3
   },
   "file_extension": ".py",
   "mimetype": "text/x-python",
   "name": "python",
   "nbconvert_exporter": "python",
   "pygments_lexer": "ipython3",
   "version": 3
  },
  "orig_nbformat": 2
 },
 "nbformat": 4,
 "nbformat_minor": 2,
 "cells": [
  {
   "cell_type": "code",
   "execution_count": null,
   "metadata": {},
   "outputs": [],
   "source": [
    "# Given a list as a parameter,write a function that returns a list of numbers that are less than ten\n",
    "# Use the following list - [1,11,14,5,8,9]\n",
    "\n",
    "l_1 = [1,11,14,5,8,9]\n",
    "new_list = []\n",
    "\n",
    "# def lessThanTen(numbers):\n",
    "#     for num in range(len(numbers)):\n",
    "#         if numbers[num] < 10: new_list.append(numbers[num])\n",
    "#     return\n",
    "\n",
    "# lessThanTen(l_1)\n",
    "# print(new_list)\n",
    "\n",
    "new_list = [num for num in range(1, len(l_1)) if num < 10]\n",
    "\n",
    "print(new_list)\n",
    "\n"
   ]
  },
  {
   "cell_type": "code",
   "execution_count": null,
   "metadata": {},
   "outputs": [],
   "source": [
    "# Write a function that takes in two lists and returns the two lists merged together and sorted\n",
    "# Hint: You can use the .sort() method\n",
    "\n",
    "l_1 = [1,2,3,4,5,6]\n",
    "l_2 = [3,4,5,6,7,8,10]\n",
    "\n",
    "# def merge_nums (list_1, list_2):\n",
    "#     sorted_nums = list_1 + list_2\n",
    "#     # for num in range(len(sorted_nums)):\n",
    "#     return sorted(sorted_nums)\n",
    "\n",
    "# merge_nums(l_1, l_2)\n",
    "\n",
    "new_list = l_1 + l_2\n",
    "merge_nums = sorted(num for num in new_list)\n",
    "\n",
    "print(merge_nums)\n",
    "\n"
   ]
  }
 ]
}